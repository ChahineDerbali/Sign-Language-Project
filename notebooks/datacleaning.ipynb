{
 "cells": [
  {
   "cell_type": "code",
   "execution_count": null,
   "id": "6ef3cd84",
   "metadata": {},
   "outputs": [
    {
     "name": "stdout",
     "output_type": "stream",
     "text": [
      "Dataset processed and cropped successfully!\n"
     ]
    }
   ],
   "source": [
    "import os\n",
    "import cv2\n",
    "import numpy as np\n",
    "from shutil import copytree\n",
    "\n",
    "def crop_blue_border_simple(image):\n",
    "\n",
    "    cropped_image = image[4:-4, 4:-4]\n",
    "    return cropped_image\n",
    "\n",
    "def preprocess_and_crop_image(image_path, output_path):\n",
    "    # Load the image\n",
    "    image = cv2.imread(image_path)\n",
    "\n",
    "    cropped_image = crop_blue_border_simple(image)\n",
    "\n",
    "    cv2.imwrite(output_path, cropped_image)\n",
    "\n",
    "def process_dataset(input_dir, output_dir):\n",
    "    \n",
    "    for root, dirs, files in os.walk(input_dir):\n",
    "        for dir_name in dirs:\n",
    "\n",
    "            output_folder = os.path.join(output_dir, os.path.relpath(os.path.join(root, dir_name), input_dir))\n",
    "            os.makedirs(output_folder, exist_ok=True)\n",
    "\n",
    "        for file_name in files:\n",
    "            if file_name.endswith('.jpg') or file_name.endswith('.png'):\n",
    "\n",
    "                input_image_path = os.path.join(root, file_name)\n",
    "\n",
    "\n",
    "                relative_path = os.path.relpath(input_image_path, input_dir)\n",
    "                output_image_path = os.path.join(output_dir, relative_path)\n",
    "\n",
    "\n",
    "                os.makedirs(os.path.dirname(output_image_path), exist_ok=True)\n",
    "\n",
    "                preprocess_and_crop_image(input_image_path, output_image_path)\n",
    "\n",
    "\n",
    "input_dir = '../data/raw/asl_alphabet_test/asl_alphabet_test'  # Input raw dataset path\n",
    "output_dir = '../data/processed/asl_alphabet_test_cropped/asl_alphabet_test'  # Output cropped dataset path\n",
    "\n",
    "# Process the dataset\n",
    "process_dataset(input_dir, output_dir)\n",
    "\n",
    "print(\"Dataset processed and cropped successfully!\")\n"
   ]
  }
 ],
 "metadata": {
  "kernelspec": {
   "display_name": ".venv",
   "language": "python",
   "name": "python3"
  },
  "language_info": {
   "codemirror_mode": {
    "name": "ipython",
    "version": 3
   },
   "file_extension": ".py",
   "mimetype": "text/x-python",
   "name": "python",
   "nbconvert_exporter": "python",
   "pygments_lexer": "ipython3",
   "version": "3.12.0"
  }
 },
 "nbformat": 4,
 "nbformat_minor": 5
}
